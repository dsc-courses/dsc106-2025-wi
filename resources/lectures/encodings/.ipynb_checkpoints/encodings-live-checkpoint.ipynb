{
 "cells": [
  {
   "cell_type": "code",
   "execution_count": null,
   "id": "a2c6e2f8-07ce-44e4-9d91-7c330c773fb0",
   "metadata": {},
   "outputs": [],
   "source": [
    "from dsc106_utils import *"
   ]
  },
  {
   "cell_type": "code",
   "execution_count": null,
   "id": "dbea0f62-1a0d-418a-ba0d-1f663121497b",
   "metadata": {},
   "outputs": [],
   "source": [
    "mpg = sns.load_dataset('mpg').dropna()\n",
    "mpg"
   ]
  },
  {
   "cell_type": "code",
   "execution_count": null,
   "id": "5737af8c-5c86-4772-be80-fbd5431116aa",
   "metadata": {},
   "outputs": [],
   "source": [
    "mpg['origin'].value_counts().reset_index()"
   ]
  },
  {
   "cell_type": "markdown",
   "id": "92e64a40-b5a7-4f1b-b935-7200636a73b5",
   "metadata": {},
   "source": [
    "## Nimble design moves"
   ]
  },
  {
   "cell_type": "code",
   "execution_count": null,
   "id": "5273be0d-cbe7-4609-8e6b-f6704943b432",
   "metadata": {},
   "outputs": [],
   "source": [
    "px.bar(\n",
    "    mpg['origin'].value_counts().reset_index(),\n",
    "    x='origin',\n",
    "    y='count',\n",
    ")"
   ]
  },
  {
   "cell_type": "code",
   "execution_count": null,
   "id": "7356266a-5a6d-4cd2-9775-19d65c09b0f0",
   "metadata": {},
   "outputs": [],
   "source": []
  },
  {
   "cell_type": "code",
   "execution_count": null,
   "id": "a1d6c337-1080-4db3-9ae9-4d4cea16cc06",
   "metadata": {},
   "outputs": [],
   "source": []
  },
  {
   "cell_type": "code",
   "execution_count": null,
   "id": "1758e175-f221-4358-975f-2cfb191d258d",
   "metadata": {},
   "outputs": [],
   "source": []
  },
  {
   "cell_type": "markdown",
   "id": "5e5ff64b-23e8-4efe-8744-d7bf9a367efc",
   "metadata": {},
   "source": [
    "## 1 Nominal, 1 Quantitative"
   ]
  },
  {
   "cell_type": "code",
   "execution_count": null,
   "id": "cd1ab8a8-f9ea-4695-9b54-2fdd62f36ffe",
   "metadata": {},
   "outputs": [],
   "source": [
    "px.bar(\n",
    "    mpg['origin'].value_counts().reset_index(),\n",
    "    x='origin',\n",
    "    y='count',\n",
    ")"
   ]
  },
  {
   "cell_type": "code",
   "execution_count": null,
   "id": "2ea3a705-ca99-4f33-b280-e9c35bcd084e",
   "metadata": {},
   "outputs": [],
   "source": []
  },
  {
   "cell_type": "code",
   "execution_count": null,
   "id": "c6de579f-5cfd-4974-a4c6-c2cfb0557fb7",
   "metadata": {},
   "outputs": [],
   "source": []
  },
  {
   "cell_type": "markdown",
   "id": "765f65ac-4475-40e3-b4df-c71f9ac3c206",
   "metadata": {},
   "source": [
    "## Encoding 3 variables"
   ]
  },
  {
   "cell_type": "code",
   "execution_count": null,
   "id": "4daa8016-feac-4bc8-9ed1-60361922a056",
   "metadata": {},
   "outputs": [],
   "source": [
    "px.scatter(\n",
    "    mpg,\n",
    "    x='horsepower',\n",
    "    y='mpg',\n",
    ")"
   ]
  },
  {
   "cell_type": "code",
   "execution_count": null,
   "id": "534f18b6-f76a-4f51-acba-8a7fd33b9224",
   "metadata": {},
   "outputs": [],
   "source": []
  },
  {
   "cell_type": "code",
   "execution_count": null,
   "id": "d583fc5d-f4a2-4403-b68c-23b47a2e2776",
   "metadata": {},
   "outputs": [],
   "source": []
  },
  {
   "cell_type": "code",
   "execution_count": null,
   "id": "9fceb02e-3c53-4a4f-a0e3-beb090dcc129",
   "metadata": {},
   "outputs": [],
   "source": [
    "occ = mpg.groupby(['origin', 'cylinders']).size().rename('count').reset_index()\n",
    "occ"
   ]
  },
  {
   "cell_type": "code",
   "execution_count": null,
   "id": "7ff2fb02-3aad-47a2-93ab-8ccab41e7d3e",
   "metadata": {},
   "outputs": [],
   "source": [
    "px.bar(\n",
    "    occ,\n",
    "    x='count',\n",
    "    y='origin',\n",
    "    color='cylinders',\n",
    ")"
   ]
  },
  {
   "cell_type": "code",
   "execution_count": null,
   "id": "44827a09-c415-4b5f-85b3-73d4f57198c9",
   "metadata": {},
   "outputs": [],
   "source": [
    "omc = mpg.groupby(['origin', 'model_year']).size().rename('count').reset_index()\n",
    "omc"
   ]
  },
  {
   "cell_type": "code",
   "execution_count": null,
   "id": "821842ac-0103-4050-8d12-946d94062489",
   "metadata": {},
   "outputs": [],
   "source": [
    "px.line(\n",
    "    omc,\n",
    "    x='model_year',\n",
    "    y='count',\n",
    "    color='origin'\n",
    ")"
   ]
  },
  {
   "cell_type": "markdown",
   "id": "b94bdf74-b015-4b77-9544-b7b676dace84",
   "metadata": {},
   "source": [
    "## What about 4 channels?"
   ]
  },
  {
   "cell_type": "code",
   "execution_count": null,
   "id": "3e20999f-a71f-46af-b3a6-3e59685cc903",
   "metadata": {},
   "outputs": [],
   "source": [
    "mpg"
   ]
  },
  {
   "cell_type": "code",
   "execution_count": null,
   "id": "25a6a9fc-e3f4-453d-88eb-1afb11a95aa8",
   "metadata": {},
   "outputs": [],
   "source": [
    "means = (mpg\n",
    " .groupby(['origin', 'model_year'])\n",
    " ['mpg']\n",
    " .max()\n",
    " .reset_index()\n",
    ")\n",
    "means"
   ]
  },
  {
   "cell_type": "code",
   "execution_count": null,
   "id": "9b2a5cd7-71fa-460a-bbdd-59a29af0ea12",
   "metadata": {},
   "outputs": [],
   "source": [
    "px.scatter(\n",
    "    means,\n",
    "    x='model_year',\n",
    "    y='origin',\n",
    "    color='origin', # redundant encoding!\n",
    "    size='mpg',\n",
    ")"
   ]
  }
 ],
 "metadata": {
  "kernelspec": {
   "display_name": "Python 3 (ipykernel)",
   "language": "python",
   "name": "python3"
  },
  "language_info": {
   "codemirror_mode": {
    "name": "ipython",
    "version": 3
   },
   "file_extension": ".py",
   "mimetype": "text/x-python",
   "name": "python",
   "nbconvert_exporter": "python",
   "pygments_lexer": "ipython3",
   "version": "3.12.6"
  }
 },
 "nbformat": 4,
 "nbformat_minor": 5
}
