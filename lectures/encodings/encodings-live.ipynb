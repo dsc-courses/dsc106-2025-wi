{
 "cells": [
  {
   "cell_type": "code",
   "execution_count": 1,
   "id": "a2c6e2f8-07ce-44e4-9d91-7c330c773fb0",
   "metadata": {},
   "outputs": [],
   "source": [
    "from dsc106_utils import *"
   ]
  },
  {
   "cell_type": "code",
   "execution_count": 2,
   "id": "dbea0f62-1a0d-418a-ba0d-1f663121497b",
   "metadata": {},
   "outputs": [
    {
     "data": {
      "text/html": [
       "<div>\n",
       "<style scoped>\n",
       "    .dataframe tbody tr th:only-of-type {\n",
       "        vertical-align: middle;\n",
       "    }\n",
       "\n",
       "    .dataframe tbody tr th {\n",
       "        vertical-align: top;\n",
       "    }\n",
       "\n",
       "    .dataframe thead th {\n",
       "        text-align: right;\n",
       "    }\n",
       "</style>\n",
       "<table border=\"1\" class=\"dataframe\">\n",
       "  <thead>\n",
       "    <tr style=\"text-align: right;\">\n",
       "      <th></th>\n",
       "      <th>mpg</th>\n",
       "      <th>cylinders</th>\n",
       "      <th>displacement</th>\n",
       "      <th>horsepower</th>\n",
       "      <th>...</th>\n",
       "      <th>acceleration</th>\n",
       "      <th>model_year</th>\n",
       "      <th>origin</th>\n",
       "      <th>name</th>\n",
       "    </tr>\n",
       "  </thead>\n",
       "  <tbody>\n",
       "    <tr>\n",
       "      <th>0</th>\n",
       "      <td>18.0</td>\n",
       "      <td>8</td>\n",
       "      <td>307.0</td>\n",
       "      <td>130.0</td>\n",
       "      <td>...</td>\n",
       "      <td>12.0</td>\n",
       "      <td>70</td>\n",
       "      <td>usa</td>\n",
       "      <td>chevrolet chevelle malibu</td>\n",
       "    </tr>\n",
       "    <tr>\n",
       "      <th>1</th>\n",
       "      <td>15.0</td>\n",
       "      <td>8</td>\n",
       "      <td>350.0</td>\n",
       "      <td>165.0</td>\n",
       "      <td>...</td>\n",
       "      <td>11.5</td>\n",
       "      <td>70</td>\n",
       "      <td>usa</td>\n",
       "      <td>buick skylark 320</td>\n",
       "    </tr>\n",
       "    <tr>\n",
       "      <th>2</th>\n",
       "      <td>18.0</td>\n",
       "      <td>8</td>\n",
       "      <td>318.0</td>\n",
       "      <td>150.0</td>\n",
       "      <td>...</td>\n",
       "      <td>11.0</td>\n",
       "      <td>70</td>\n",
       "      <td>usa</td>\n",
       "      <td>plymouth satellite</td>\n",
       "    </tr>\n",
       "    <tr>\n",
       "      <th>...</th>\n",
       "      <td>...</td>\n",
       "      <td>...</td>\n",
       "      <td>...</td>\n",
       "      <td>...</td>\n",
       "      <td>...</td>\n",
       "      <td>...</td>\n",
       "      <td>...</td>\n",
       "      <td>...</td>\n",
       "      <td>...</td>\n",
       "    </tr>\n",
       "    <tr>\n",
       "      <th>395</th>\n",
       "      <td>32.0</td>\n",
       "      <td>4</td>\n",
       "      <td>135.0</td>\n",
       "      <td>84.0</td>\n",
       "      <td>...</td>\n",
       "      <td>11.6</td>\n",
       "      <td>82</td>\n",
       "      <td>usa</td>\n",
       "      <td>dodge rampage</td>\n",
       "    </tr>\n",
       "    <tr>\n",
       "      <th>396</th>\n",
       "      <td>28.0</td>\n",
       "      <td>4</td>\n",
       "      <td>120.0</td>\n",
       "      <td>79.0</td>\n",
       "      <td>...</td>\n",
       "      <td>18.6</td>\n",
       "      <td>82</td>\n",
       "      <td>usa</td>\n",
       "      <td>ford ranger</td>\n",
       "    </tr>\n",
       "    <tr>\n",
       "      <th>397</th>\n",
       "      <td>31.0</td>\n",
       "      <td>4</td>\n",
       "      <td>119.0</td>\n",
       "      <td>82.0</td>\n",
       "      <td>...</td>\n",
       "      <td>19.4</td>\n",
       "      <td>82</td>\n",
       "      <td>usa</td>\n",
       "      <td>chevy s-10</td>\n",
       "    </tr>\n",
       "  </tbody>\n",
       "</table>\n",
       "<p>392 rows × 9 columns</p>\n",
       "</div>"
      ],
      "text/plain": [
       "      mpg  cylinders  displacement  horsepower  ...  acceleration  model_year  \\\n",
       "0    18.0          8         307.0       130.0  ...          12.0          70   \n",
       "1    15.0          8         350.0       165.0  ...          11.5          70   \n",
       "2    18.0          8         318.0       150.0  ...          11.0          70   \n",
       "..    ...        ...           ...         ...  ...           ...         ...   \n",
       "395  32.0          4         135.0        84.0  ...          11.6          82   \n",
       "396  28.0          4         120.0        79.0  ...          18.6          82   \n",
       "397  31.0          4         119.0        82.0  ...          19.4          82   \n",
       "\n",
       "     origin                       name  \n",
       "0       usa  chevrolet chevelle malibu  \n",
       "1       usa          buick skylark 320  \n",
       "2       usa         plymouth satellite  \n",
       "..      ...                        ...  \n",
       "395     usa              dodge rampage  \n",
       "396     usa                ford ranger  \n",
       "397     usa                 chevy s-10  \n",
       "\n",
       "[392 rows x 9 columns]"
      ]
     },
     "execution_count": 2,
     "metadata": {},
     "output_type": "execute_result"
    }
   ],
   "source": [
    "mpg = sns.load_dataset('mpg').dropna()\n",
    "mpg"
   ]
  },
  {
   "cell_type": "code",
   "execution_count": 3,
   "id": "5737af8c-5c86-4772-be80-fbd5431116aa",
   "metadata": {},
   "outputs": [
    {
     "data": {
      "text/html": [
       "<div>\n",
       "<style scoped>\n",
       "    .dataframe tbody tr th:only-of-type {\n",
       "        vertical-align: middle;\n",
       "    }\n",
       "\n",
       "    .dataframe tbody tr th {\n",
       "        vertical-align: top;\n",
       "    }\n",
       "\n",
       "    .dataframe thead th {\n",
       "        text-align: right;\n",
       "    }\n",
       "</style>\n",
       "<table border=\"1\" class=\"dataframe\">\n",
       "  <thead>\n",
       "    <tr style=\"text-align: right;\">\n",
       "      <th></th>\n",
       "      <th>origin</th>\n",
       "      <th>count</th>\n",
       "    </tr>\n",
       "  </thead>\n",
       "  <tbody>\n",
       "    <tr>\n",
       "      <th>0</th>\n",
       "      <td>usa</td>\n",
       "      <td>245</td>\n",
       "    </tr>\n",
       "    <tr>\n",
       "      <th>1</th>\n",
       "      <td>japan</td>\n",
       "      <td>79</td>\n",
       "    </tr>\n",
       "    <tr>\n",
       "      <th>2</th>\n",
       "      <td>europe</td>\n",
       "      <td>68</td>\n",
       "    </tr>\n",
       "  </tbody>\n",
       "</table>\n",
       "</div>"
      ],
      "text/plain": [
       "   origin  count\n",
       "0     usa    245\n",
       "1   japan     79\n",
       "2  europe     68"
      ]
     },
     "execution_count": 3,
     "metadata": {},
     "output_type": "execute_result"
    }
   ],
   "source": [
    "mpg['origin'].value_counts().reset_index()"
   ]
  },
  {
   "cell_type": "markdown",
   "id": "92e64a40-b5a7-4f1b-b935-7200636a73b5",
   "metadata": {},
   "source": [
    "## Nimble design moves"
   ]
  },
  {
   "cell_type": "code",
   "execution_count": null,
   "id": "5273be0d-cbe7-4609-8e6b-f6704943b432",
   "metadata": {},
   "outputs": [],
   "source": [
    "px.bar(\n",
    "    mpg['origin'].value_counts().reset_index(),\n",
    "    x='origin',\n",
    "    y='count',\n",
    ")"
   ]
  },
  {
   "cell_type": "code",
   "execution_count": null,
   "id": "7356266a-5a6d-4cd2-9775-19d65c09b0f0",
   "metadata": {},
   "outputs": [],
   "source": []
  },
  {
   "cell_type": "code",
   "execution_count": null,
   "id": "a1d6c337-1080-4db3-9ae9-4d4cea16cc06",
   "metadata": {},
   "outputs": [],
   "source": []
  },
  {
   "cell_type": "code",
   "execution_count": null,
   "id": "1758e175-f221-4358-975f-2cfb191d258d",
   "metadata": {},
   "outputs": [],
   "source": []
  },
  {
   "cell_type": "markdown",
   "id": "5e5ff64b-23e8-4efe-8744-d7bf9a367efc",
   "metadata": {},
   "source": [
    "## 1 Nominal, 1 Quantitative"
   ]
  },
  {
   "cell_type": "code",
   "execution_count": null,
   "id": "cd1ab8a8-f9ea-4695-9b54-2fdd62f36ffe",
   "metadata": {},
   "outputs": [],
   "source": [
    "px.bar(\n",
    "    mpg['origin'].value_counts().reset_index(),\n",
    "    x='origin',\n",
    "    y='count',\n",
    ")"
   ]
  },
  {
   "cell_type": "code",
   "execution_count": null,
   "id": "2ea3a705-ca99-4f33-b280-e9c35bcd084e",
   "metadata": {},
   "outputs": [],
   "source": []
  },
  {
   "cell_type": "code",
   "execution_count": null,
   "id": "c6de579f-5cfd-4974-a4c6-c2cfb0557fb7",
   "metadata": {},
   "outputs": [],
   "source": []
  },
  {
   "cell_type": "markdown",
   "id": "765f65ac-4475-40e3-b4df-c71f9ac3c206",
   "metadata": {},
   "source": [
    "## Encoding 3 variables"
   ]
  },
  {
   "cell_type": "code",
   "execution_count": null,
   "id": "4daa8016-feac-4bc8-9ed1-60361922a056",
   "metadata": {},
   "outputs": [],
   "source": [
    "px.scatter(\n",
    "    mpg,\n",
    "    x='horsepower',\n",
    "    y='mpg',\n",
    ")"
   ]
  },
  {
   "cell_type": "code",
   "execution_count": null,
   "id": "534f18b6-f76a-4f51-acba-8a7fd33b9224",
   "metadata": {},
   "outputs": [],
   "source": []
  },
  {
   "cell_type": "code",
   "execution_count": null,
   "id": "d583fc5d-f4a2-4403-b68c-23b47a2e2776",
   "metadata": {},
   "outputs": [],
   "source": []
  },
  {
   "cell_type": "code",
   "execution_count": null,
   "id": "9fceb02e-3c53-4a4f-a0e3-beb090dcc129",
   "metadata": {},
   "outputs": [],
   "source": [
    "occ = mpg.groupby(['origin', 'cylinders']).size().rename('count').reset_index()\n",
    "occ"
   ]
  },
  {
   "cell_type": "code",
   "execution_count": null,
   "id": "7ff2fb02-3aad-47a2-93ab-8ccab41e7d3e",
   "metadata": {},
   "outputs": [],
   "source": [
    "px.bar(\n",
    "    occ,\n",
    "    x='count',\n",
    "    y='origin',\n",
    "    color='cylinders',\n",
    ")"
   ]
  },
  {
   "cell_type": "code",
   "execution_count": null,
   "id": "44827a09-c415-4b5f-85b3-73d4f57198c9",
   "metadata": {},
   "outputs": [],
   "source": [
    "omc = mpg.groupby(['origin', 'model_year']).size().rename('count').reset_index()\n",
    "omc"
   ]
  },
  {
   "cell_type": "code",
   "execution_count": null,
   "id": "821842ac-0103-4050-8d12-946d94062489",
   "metadata": {},
   "outputs": [],
   "source": [
    "px.line(\n",
    "    omc,\n",
    "    x='model_year',\n",
    "    y='count',\n",
    "    color='origin'\n",
    ")"
   ]
  },
  {
   "cell_type": "markdown",
   "id": "b94bdf74-b015-4b77-9544-b7b676dace84",
   "metadata": {},
   "source": [
    "## What about 4 channels?"
   ]
  },
  {
   "cell_type": "code",
   "execution_count": null,
   "id": "3e20999f-a71f-46af-b3a6-3e59685cc903",
   "metadata": {},
   "outputs": [],
   "source": [
    "mpg"
   ]
  },
  {
   "cell_type": "code",
   "execution_count": null,
   "id": "25a6a9fc-e3f4-453d-88eb-1afb11a95aa8",
   "metadata": {},
   "outputs": [],
   "source": [
    "means = (mpg\n",
    " .groupby(['origin', 'model_year'])\n",
    " ['mpg']\n",
    " .max()\n",
    " .reset_index()\n",
    ")\n",
    "means"
   ]
  },
  {
   "cell_type": "code",
   "execution_count": null,
   "id": "9b2a5cd7-71fa-460a-bbdd-59a29af0ea12",
   "metadata": {},
   "outputs": [],
   "source": [
    "px.scatter(\n",
    "    means,\n",
    "    x='model_year',\n",
    "    y='origin',\n",
    "    color='origin', # redundant encoding!\n",
    "    size='mpg',\n",
    ")"
   ]
  }
 ],
 "metadata": {
  "kernelspec": {
   "display_name": "Python 3 (ipykernel)",
   "language": "python",
   "name": "python3"
  },
  "language_info": {
   "codemirror_mode": {
    "name": "ipython",
    "version": 3
   },
   "file_extension": ".py",
   "mimetype": "text/x-python",
   "name": "python",
   "nbconvert_exporter": "python",
   "pygments_lexer": "ipython3",
   "version": "3.12.6"
  }
 },
 "nbformat": 4,
 "nbformat_minor": 5
}
